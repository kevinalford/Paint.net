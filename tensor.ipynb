{
 "cells": [
  {
   "cell_type": "code",
   "execution_count": 1,
   "metadata": {},
   "outputs": [],
   "source": [
    "%load_ext autoreload\n",
    "%autoreload 2\n",
    "\n",
    "from PIL import Image\n",
    "import numpy as np\n",
    "import os\n",
    "import random\n",
    "import matplotlib.pyplot as plt\n",
    "import pickle\n",
    "import tensorflow as tf\n",
    "from tensorflow.keras import datasets, layers, models"
   ]
  },
  {
   "cell_type": "code",
   "execution_count": 2,
   "metadata": {},
   "outputs": [
    {
     "name": "stdout",
     "output_type": "stream",
     "text": [
      "(256, 256, 3)\n",
      "(256, 256, 3)\n",
      "(256, 256, 3)\n",
      "(256, 256, 3)\n",
      "1750 150\n",
      "(1750, 256, 256, 3)\n",
      "(150, 256, 256, 3)\n",
      "(100, 256, 256, 3)\n",
      "[0 0 0 3 1 1 0 0 0 0]\n",
      "[2 0 2 1 0 2 0 0 0 0]\n",
      "[1 3 0 0 1 2 1 3 0 0]\n"
     ]
    }
   ],
   "source": [
    "# DATA IN CODE HERE\n",
    "\n",
    "monet = None\n",
    "vangogh = None\n",
    "dali = None\n",
    "picasso = None\n",
    "\n",
    "with open ('monet2.pk', 'rb') as fp:\n",
    "    monet = pickle.load(fp)\n",
    "    \n",
    "with open ('vangogh2.pk', 'rb') as fp:\n",
    "    vangogh = pickle.load(fp)\n",
    "    \n",
    "with open ('dali2.pk', 'rb') as fp:\n",
    "    dali = pickle.load(fp)\n",
    "    \n",
    "with open ('picasso2.pk', 'rb') as fp:\n",
    "    picasso = pickle.load(fp)\n",
    "    \n",
    "    \n",
    "print(monet[0].shape)\n",
    "print(vangogh[0].shape)\n",
    "print(dali[0].shape)\n",
    "print(picasso[0].shape)\n",
    "\n",
    "X = np.zeros((3000,256,256,3))\n",
    "y = np.zeros((3000))\n",
    "\n",
    "for pic in range(500):\n",
    "    X[pic] = monet[pic]\n",
    "    y[pic] = 0\n",
    "for pic in range(500):\n",
    "    X[pic + 500] = vangogh[pic]\n",
    "    y[pic + 500] = 1\n",
    "for pic in range(500):\n",
    "    X[pic + 1000] = dali[pic]\n",
    "    y[pic + 1000] = 2\n",
    "for pic in range(500):\n",
    "    X[pic + 1500] = picasso[pic]\n",
    "    y[pic + 1500] = 3\n",
    "\"\"\"\"\n",
    "for pic in range(100):\n",
    "    X[pic+ 1500] = picasso[pic]\n",
    "    y[pic + 1500] = 3\n",
    "\"\"\"\n",
    "#print(X.shape)\n",
    "#print(y.shape)\n",
    "\n",
    "seed = np.random.randint(0, 1000)  \n",
    "\n",
    "np.random.seed(seed)  \n",
    "np.random.shuffle(X)  \n",
    "np.random.seed(seed)  \n",
    "np.random.shuffle(y)\n",
    "\n",
    "#mean_image = np.mean(X, axis=0)\n",
    "#X -= mean_image\n",
    "\n",
    "#X_val = X_val.reshape(num_validation, -1)\n",
    "y = y.astype(int)\n",
    "\n",
    "num_train = 1750\n",
    "num_eval = 150\n",
    "num_test = 100\n",
    "\n",
    "print(num_train, num_eval)\n",
    "\n",
    "X_train = X[range(num_train)]\n",
    "X_eval = np.zeros((num_eval, 256, 256, 3))\n",
    "X_test = np.zeros((num_test, 256, 256, 3))\n",
    "y_train = y[range(num_train)]\n",
    "y_eval = np.zeros(num_eval).astype(int)\n",
    "y_test = np.zeros(num_test).astype(int)\n",
    "\n",
    "for i in range(num_eval):\n",
    "    X_eval[i] = X[i + num_train]\n",
    "    y_eval[i] = y[i + num_train]\n",
    "for i in range(num_test):\n",
    "    X_test[i] = X[i + num_train + num_eval]\n",
    "    y_test[i] = y[i + num_train + num_eval]\n",
    "\n",
    " \n",
    "\n",
    "print(X_train.shape)\n",
    "print(X_eval.shape)\n",
    "print(X_test.shape)\n",
    "print(y_train[:10])\n",
    "print(y_eval[:10])\n",
    "print(y_test[:10])\n",
    "\n",
    "#print(X_train[0])"
   ]
  },
  {
   "cell_type": "code",
   "execution_count": 3,
   "metadata": {},
   "outputs": [
    {
     "name": "stdout",
     "output_type": "stream",
     "text": [
      "Epoch 1/8\n",
      "55/55 [==============================] - 27s 495ms/step - loss: 1.0235 - accuracy: 0.5554 - val_loss: 0.8097 - val_accuracy: 0.6733\n",
      "Epoch 2/8\n",
      "55/55 [==============================] - 28s 506ms/step - loss: 0.8474 - accuracy: 0.6091 - val_loss: 0.7559 - val_accuracy: 0.6667\n",
      "Epoch 3/8\n",
      "55/55 [==============================] - 27s 497ms/step - loss: 0.7753 - accuracy: 0.6451 - val_loss: 0.6987 - val_accuracy: 0.7267\n",
      "Epoch 4/8\n",
      "55/55 [==============================] - 27s 490ms/step - loss: 0.7340 - accuracy: 0.6606 - val_loss: 0.6636 - val_accuracy: 0.6800\n",
      "Epoch 5/8\n",
      "55/55 [==============================] - 27s 491ms/step - loss: 0.6577 - accuracy: 0.7063 - val_loss: 0.5624 - val_accuracy: 0.7867\n",
      "Epoch 6/8\n",
      "55/55 [==============================] - 27s 491ms/step - loss: 0.5919 - accuracy: 0.7440 - val_loss: 0.4998 - val_accuracy: 0.7733\n",
      "Epoch 7/8\n",
      "55/55 [==============================] - 27s 490ms/step - loss: 0.5980 - accuracy: 0.7343 - val_loss: 0.6006 - val_accuracy: 0.7333\n",
      "Epoch 8/8\n",
      "55/55 [==============================] - 27s 488ms/step - loss: 0.5354 - accuracy: 0.7703 - val_loss: 0.5327 - val_accuracy: 0.7867\n"
     ]
    }
   ],
   "source": [
    "#Tensorflow parts we need to change later\n",
    "model = models.Sequential()\n",
    "model.add(layers.Conv2D(15, (2, 2), activation='tanh', use_bias=True, input_shape=(256, 256, 3)))\n",
    "model.add(layers.MaxPooling2D((2, 2)))\n",
    "model.add(layers.Conv2D(30, (2, 2), activation='tanh', use_bias=True))\n",
    "model.add(layers.MaxPooling2D((2, 2)))\n",
    "model.add(layers.Conv2D(45, (2, 2), activation='tanh', use_bias=True))\n",
    "model.add(layers.MaxPooling2D((2, 2)))\n",
    "model.add(layers.Conv2D(60, (2, 2), activation='tanh', use_bias=True))\n",
    "model.add(layers.MaxPooling2D((2, 2)))\n",
    "model.add(layers.Conv2D(75, (2, 2), activation='tanh', use_bias=True))\n",
    "model.add(layers.MaxPooling2D((2,2)))\n",
    "model.add(layers.Conv2D(90, (2, 2), activation='tanh', use_bias=True))\n",
    "model.add(layers.MaxPooling2D((2,2)))\n",
    "model.add(layers.Conv2D(105, (2, 2), activation='tanh', use_bias=True))\n",
    "#model.add(layers.MaxPooling2D((2,2)))\n",
    "#model.add(layers.Conv2D(120, (2, 2), activation='tanh'))\n",
    "\n",
    "\n",
    "model.add(layers.Flatten())\n",
    "model.add(layers.Dense(64, activation='relu'))\n",
    "model.add(layers.Dense(4))\n",
    "\n",
    "model.compile(optimizer='adam',\n",
    "              loss=tf.keras.losses.SparseCategoricalCrossentropy(from_logits=True),\n",
    "              metrics=['accuracy'])\n",
    "\n",
    "history = model.fit(X_train, y_train, epochs=8, \n",
    "                    validation_data=(X_eval, y_eval))"
   ]
  },
  {
   "cell_type": "code",
   "execution_count": 4,
   "metadata": {},
   "outputs": [
    {
     "name": "stdout",
     "output_type": "stream",
     "text": [
      "4/4 - 0s - loss: 0.5048 - accuracy: 0.8100\n"
     ]
    },
    {
     "data": {
      "image/png": "[encoded data removed]",
      "text/plain": [
       "<Figure size 432x288 with 1 Axes>"
      ]
     },
     "metadata": {
      "needs_background": "light"
     },
     "output_type": "display_data"
    }
   ],
   "source": [
    "plt.plot(history.history['accuracy'], label='accuracy')\n",
    "plt.plot(history.history['val_accuracy'], label = 'val_accuracy')\n",
    "plt.xlabel('Epoch')\n",
    "plt.ylabel('Accuracy')\n",
    "plt.ylim([0.3, 1])\n",
    "plt.legend(loc='lower right')\n",
    "\n",
    "test_loss, test_acc = model.evaluate(X_test,  y_test, verbose=2)"
   ]
  },
  {
   "cell_type": "markdown",
   "metadata": {},
   "source": [
    "##### "
   ]
  }
 ],
 "metadata": {
  "kernelspec": {
   "display_name": "Python 3",
   "language": "python",
   "name": "python3"
  },
  "language_info": {
   "codemirror_mode": {
    "name": "ipython",
    "version": 3
   },
   "file_extension": ".py",
   "mimetype": "text/x-python",
   "name": "python",
   "nbconvert_exporter": "python",
   "pygments_lexer": "ipython3",
   "version": "3.7.9"
  }
 },
 "nbformat": 4,
 "nbformat_minor": 4
}
